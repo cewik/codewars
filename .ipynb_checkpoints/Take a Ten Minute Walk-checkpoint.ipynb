{
 "cells": [
  {
   "cell_type": "markdown",
   "id": "29eced59",
   "metadata": {},
   "source": [
    "##                                              Take a Ten Minute Walk\n",
    "- You live in the city of Cartesia where all roads are laid out in a perfect grid. You arrived ten minutes too early to an appointment, so you decided to take the opportunity to go for a short walk. The city provides its citizens with a Walk Generating App on their phones -- everytime you press the button it sends you an array of one-letter strings representing directions to walk (eg. ['n', 's', 'w', 'e']). You always walk only a single block for each letter (direction) and you know it takes you one minute to traverse one city block, so create a function that will return true if the walk the app gives you will take you exactly ten minutes (you don't want to be early or late!) and will, of course, return you to your starting point. Return false otherwise.\n",
    "\n",
    "- <b>Note:</b> you will always receive a valid array containing a random assortment of direction letters ('n', 's', 'e', or 'w' only). It will never give you an empty array (that's not a walk, that's standing still!)."
   ]
  },
  {
   "cell_type": "markdown",
   "id": "fd3d80e7",
   "metadata": {},
   "source": [
    "#### some test cases for you...\n",
    "- is_valid_walk(['n','s','n','s','n','s','n','s','n','s']), 'should return True'\n",
    "- is_valid_walk(['w','e','w','e','w','e','w','e','w','e','w','e']), 'should return False'\n",
    "- is_valid_walk(['w']), 'should return False'\n",
    "- is_valid_walk(['n','n','n','s','n','s','n','s','n','s']), 'should return False'"
   ]
  },
  {
   "cell_type": "code",
   "execution_count": null,
   "id": "54a9747b",
   "metadata": {},
   "outputs": [],
   "source": [
    "def is_valid_walk(walk):\n",
    "    if len(walk) == 10:\n",
    "        directions = {\"n\": 0, \"s\": 0,\"w\": 0, \"e\": 0}\n",
    "        for i in walk:\n",
    "            if i in directions.keys():\n",
    "                directions[i] += 1\n",
    "            else:\n",
    "                pass\n",
    "    else :\n",
    "         return False \n",
    "    if directions[\"n\"] == directions[\"s\"] and directions[\"w\"] == directions[\"e\"]:   \n",
    "        return True\n",
    "    else:\n",
    "        return False"
   ]
  }
 ],
 "metadata": {
  "kernelspec": {
   "display_name": "Python 3",
   "language": "python",
   "name": "python3"
  },
  "language_info": {
   "codemirror_mode": {
    "name": "ipython",
    "version": 3
   },
   "file_extension": ".py",
   "mimetype": "text/x-python",
   "name": "python",
   "nbconvert_exporter": "python",
   "pygments_lexer": "ipython3",
   "version": "3.8.8"
  }
 },
 "nbformat": 4,
 "nbformat_minor": 5
}
