{
 "cells": [
  {
   "cell_type": "markdown",
   "id": "50f2dfb6",
   "metadata": {},
   "source": [
    "## <b>A Narcissistic Number </b>\n",
    "<p><b>A Narcissistic Number </b>is a positive number which is the sum of its own digits, each raised to the power of the number of digits in a given base. In this Kata, we will restrict ourselves to decimal (base 10).</p> \n",
    " \n",
    "- For example, take 153 (3 digits), which is narcisstic:\n",
    "    1^3 + 5^3 + 3^3 = 1 + 125 + 27 = 153\n",
    "<br>    \n",
    "     and 1652 (4 digits), which isn't:\n",
    "    1^4 + 6^4 + 5^4 + 2^4 = 1 + 1296 + 625 + 16 = 1938\n",
    "\n",
    "#### The Challenge:\n",
    "<p> Your code must return true or false (not 'true' and 'false') depending upon whether the given number is a Narcissistic number in base 10. This may be True and False in your language, e.g. PHP.</p> \n",
    "\n",
    "<p> Error checking for text strings or other invalid inputs is not required, only valid positive non-zero integers will be passed into the function.</p> "
   ]
  },
  {
   "cell_type": "code",
   "execution_count": 1,
   "id": "7efaef9b",
   "metadata": {
    "scrolled": true
   },
   "outputs": [],
   "source": [
    "def narcissistic( value ):\n",
    "    total = 0\n",
    "    try:\n",
    "        if value > 0 and type(value) == int:\n",
    "            for i in str(value):\n",
    "                total += int(i) ** len(str(value))\n",
    "            if total == int(value):\n",
    "                return True \n",
    "            else: \n",
    "                return False\n",
    "        else: \n",
    "            pass\n",
    "    except TypeError:\n",
    "        return False "
   ]
  },
  {
   "cell_type": "code",
   "execution_count": 2,
   "id": "818911a9",
   "metadata": {},
   "outputs": [
    {
     "name": "stdout",
     "output_type": "stream",
     "text": [
      "True\n",
      "False\n",
      "False\n"
     ]
    }
   ],
   "source": [
    "print(narcissistic(153))\n",
    "print(narcissistic(1652))\n",
    "print(narcissistic(\"153\"))"
   ]
  }
 ],
 "metadata": {
  "kernelspec": {
   "display_name": "Python 3",
   "language": "python",
   "name": "python3"
  },
  "language_info": {
   "codemirror_mode": {
    "name": "ipython",
    "version": 3
   },
   "file_extension": ".py",
   "mimetype": "text/x-python",
   "name": "python",
   "nbconvert_exporter": "python",
   "pygments_lexer": "ipython3",
   "version": "3.8.8"
  }
 },
 "nbformat": 4,
 "nbformat_minor": 5
}
