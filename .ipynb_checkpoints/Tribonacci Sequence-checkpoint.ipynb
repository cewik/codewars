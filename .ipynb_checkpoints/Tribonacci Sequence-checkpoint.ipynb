{
 "cells": [
  {
   "cell_type": "markdown",
   "id": "70250cb0",
   "metadata": {},
   "source": [
    "## Tribonacci Sequence\n",
    "- Well met with Fibonacci bigger brother, AKA Tribonacci.\n",
    "\n",
    "- As the name may already reveal, it works basically like a Fibonacci, but summing the last 3 (instead of 2) numbers of the sequence to generate the next. And, worse part of it, regrettably I won't get to hear non-native Italian speakers trying to pronounce it :(\n",
    "\n",
    "- So, if we are to start our Tribonacci sequence with [1, 1, 1] as a starting input (AKA signature), we have this sequence:\n",
    "\n",
    "[1, 1 ,1, 3, 5, 9, 17, 31, ...]\n",
    "- But what if we started with [0, 0, 1] as a signature? As starting with [0, 1] instead of [1, 1] basically shifts the common Fibonacci sequence by once place, you may be tempted to think that we would get the same sequence shifted by 2 places, but that is not the case and we would get:\n",
    "\n",
    "[0, 0, 1, 1, 2, 4, 7, 13, 24, ...]\n",
    "- Well, you may have guessed it by now, but to be clear: you need to create a fibonacci function that given a signature array/list, returns the first n elements - signature included of the so seeded sequence.\n",
    "\n",
    "- Signature will always contain 3 numbers; n will always be a non-negative number; if n == 0, then return an empty array (except in C return NULL) and be ready for anything else which is not clearly specified ;)\n",
    "\n",
    "- If you enjoyed this kata more advanced and generalized version of it can be found in the Xbonacci kata\n",
    "\n",
    "- [Personal thanks to Professor Jim Fowler on Coursera for his awesome classes that I really recommend to any math enthusiast and for showing me this mathematical curiosity too with his usual contagious passion :)]"
   ]
  },
  {
   "cell_type": "markdown",
   "id": "70498b61",
   "metadata": {},
   "source": [
    "- test.assert_equals(tribonacci([0, 0, 1], 10), [0, 0, 1, 1, 2, 4, 7, 13, 24, 44])\n",
    "- test.assert_equals(tribonacci([0, 1, 1], 10), [0, 1, 1, 2, 4, 7, 13, 24, 44, 81])\n",
    "- test.assert_equals(tribonacci([1, 0, 0], 10), [1, 0, 0, 1, 1, 2, 4, 7, 13, 24])\n",
    "- test.assert_equals(tribonacci([0, 0, 0], 10), [0, 0, 0, 0, 0, 0, 0, 0, 0, 0])\n",
    "- test.assert_equals(tribonacci([1, 2, 3], 10), [1, 2, 3, 6, 11, 20, 37, 68, 125, 230])\n",
    "- test.assert_equals(tribonacci([3, 2, 1], 10), [3, 2, 1, 6, 9, 16, 31, 56, 103, 190])\n",
    "- test.assert_equals(tribonacci([1, 1, 1], 1), [1])\n",
    "- test.assert_equals(tribonacci([300, 200, 100], 0), [])\n",
    "- test.assert_equals(tribonacci([0.5, 0.5, 0.5], 30), [0.5, 0.5, 0.5, 1.5, 2.5, 4.5, 8.5, 15.5, 28.5, 52.5, 96.5, 177.5, 326.5, 600.5, 1104.5, 2031.5, 3736.5, 6872.5, 12640.5, 23249.5, 42762.5, 78652.5, 144664.5, 266079.5, 489396.5, 900140.5, 1655616.5, 3045153.5, 5600910.5, 10301680.5])"
   ]
  },
  {
   "cell_type": "code",
   "execution_count": 20,
   "id": "e9a3245c",
   "metadata": {},
   "outputs": [],
   "source": [
    "def tribonacci(signature, n):\n",
    "    tribonacci_list = signature  \n",
    "    if n == 0:\n",
    "        tribonacci_list = []\n",
    "    elif n <=3:\n",
    "        tribonacci_list = signature[0:n]\n",
    "    else:\n",
    "        for i in range(3,n):\n",
    "            tribonacci_list.append(tribonacci_list[i - 3] + tribonacci_list[i - 2] + tribonacci_list[i - 1])\n",
    "    return tribonacci_list"
   ]
  },
  {
   "cell_type": "code",
   "execution_count": 23,
   "id": "9f5c6e06",
   "metadata": {
    "collapsed": true
   },
   "outputs": [
    {
     "name": "stdout",
     "output_type": "stream",
     "text": [
      "[0, 0, 1, 1, 2, 4, 7, 13, 24, 44]\n",
      "[0, 1, 1, 2, 4, 7, 13, 24, 44, 81]\n",
      "[1, 0, 0, 1, 1, 2, 4, 7, 13, 24]\n",
      "[0, 0, 0, 0, 0, 0, 0, 0, 0, 0]\n",
      "[1, 2, 3, 6, 11, 20, 37, 68, 125, 230]\n",
      "[3, 2, 1, 6, 9, 16, 31, 56, 103, 190]\n",
      "[1]\n",
      "[]\n",
      "[0.5, 0.5, 0.5, 1.5, 2.5, 4.5, 8.5, 15.5, 28.5, 52.5, 96.5, 177.5, 326.5, 600.5, 1104.5, 2031.5, 3736.5, 6872.5, 12640.5, 23249.5, 42762.5, 78652.5, 144664.5, 266079.5, 489396.5, 900140.5, 1655616.5, 3045153.5, 5600910.5, 10301680.5]\n"
     ]
    }
   ],
   "source": [
    "print(tribonacci([0, 0, 1], 10))  # [0, 0, 1, 1, 2, 4, 7, 13, 24, 44]\n",
    "print(tribonacci([0, 1, 1], 10))  # [0, 1, 1, 2, 4, 7, 13, 24, 44, 81]\n",
    "print(tribonacci([1, 0, 0], 10))  # [1, 0, 0, 1, 1, 2, 4, 7, 13, 24]\n",
    "print(tribonacci([0, 0, 0], 10))  # [0, 0, 0, 0, 0, 0, 0, 0, 0, 0]\n",
    "print(tribonacci([1, 2, 3], 10))  # [1, 2, 3, 6, 11, 20, 37, 68, 125, 230]\n",
    "print(tribonacci([3, 2, 1], 10))  # [3, 2, 1, 6, 9, 16, 31, 56, 103, 190]\n",
    "print(tribonacci([1, 1, 1], 1))  # [1]\n",
    "print(tribonacci([300, 200, 100], 0))  # []\n",
    "print(tribonacci([0.5, 0.5, 0.5], 30))  # [0.5, 0.5, 0.5, 1.5, 2.5, 4.5, 8.5, 15.5, 28.5, 52.5, 96.5, 177.5, 326.5, 600.5, 1104.5, 2031.5, 3736.5, 6872.5, 12640.5, 23249.5, 42762.5, 78652.5, 144664.5, 266079.5, 489396.5, 900140.5, 1655616.5, 3045153.5, 5600910.5, 10301680.5]"
   ]
  },
  {
   "cell_type": "code",
   "execution_count": null,
   "id": "39e365cd",
   "metadata": {},
   "outputs": [],
   "source": [
    "# Function for nth Fibonacci number\n",
    "def Fibonacci(n):\n",
    "\n",
    "\t# Check if input is 0 then it will\n",
    "\t# print incorrect input\n",
    "\tif n < 0:\n",
    "\t\tprint(\"Incorrect input\")\n",
    "\n",
    "\t# Check if n is 0\n",
    "\t# then it will return 0\n",
    "\telif n == 0:\n",
    "\t\treturn 0\n",
    "\n",
    "\t# Check if n is 1,2\n",
    "\t# it will return 1\n",
    "\telif n == 1 or n == 2:\n",
    "\t\treturn 1\n",
    "\n",
    "\telse:\n",
    "\t\treturn Fibonacci(n-1) + Fibonacci(n-2)\n",
    "\n",
    "# Driver Program\n",
    "print(Fibonacci(9))\n",
    "\n",
    "# This code is contributed by Saket Modi\n",
    "# then corrected and improved by Himanshu Kanojiya\n"
   ]
  }
 ],
 "metadata": {
  "kernelspec": {
   "display_name": "Python 3",
   "language": "python",
   "name": "python3"
  },
  "language_info": {
   "codemirror_mode": {
    "name": "ipython",
    "version": 3
   },
   "file_extension": ".py",
   "mimetype": "text/x-python",
   "name": "python",
   "nbconvert_exporter": "python",
   "pygments_lexer": "ipython3",
   "version": "3.8.8"
  }
 },
 "nbformat": 4,
 "nbformat_minor": 5
}
