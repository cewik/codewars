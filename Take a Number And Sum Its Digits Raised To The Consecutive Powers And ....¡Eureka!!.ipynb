{
 "cells": [
  {
   "cell_type": "markdown",
   "id": "e9a7d249",
   "metadata": {},
   "source": [
    "## Instructions\n",
    "The number 89 is the first integer with more than one digit that fulfills the property partially introduced in the title of this kata. What's the use of saying \"Eureka\"? Because this sum gives the same number.\n",
    "\n",
    "In effect: 89 = 8^1 + 9^2\n",
    "\n",
    "The next number in having this property is 135.\n",
    "\n",
    "See this property again: 135 = 1^1 + 3^2 + 5^3\n",
    "\n",
    "We need a function to collect these numbers, that may receive two integers a, b that defines the range [a, b] (inclusive) and outputs a list of the sorted numbers in the range that fulfills the property described above.\n",
    "\n",
    "Let's see some cases:\n",
    "\n",
    "sum_dig_pow(1, 10) == [1, 2, 3, 4, 5, 6, 7, 8, 9]\n",
    "\n",
    "sum_dig_pow(1, 100) == [1, 2, 3, 4, 5, 6, 7, 8, 9, 89]\n",
    "If there are no numbers of this kind in the range [a, b] the function should output an empty list.\n",
    "\n",
    "sum_dig_pow(90, 100) == []\n",
    "Enjoy it!!"
   ]
  },
  {
   "cell_type": "code",
   "execution_count": 1,
   "id": "0c0a4458",
   "metadata": {},
   "outputs": [
    {
     "name": "stdout",
     "output_type": "stream",
     "text": [
      "give a number12\n",
      "[]\n"
     ]
    }
   ],
   "source": [
    "x = input(\"give a number\")\n",
    "total = 0\n",
    "eureka_list = []\n",
    "for i in range(len(x)):\n",
    "    total += int(x[i]) ** (i + 1)\n",
    "if total == int(x):\n",
    "    eureka_list.append(total)\n",
    "else: pass\n",
    "print(eureka_list)\n"
   ]
  },
  {
   "cell_type": "code",
   "execution_count": 13,
   "id": "c66ee476",
   "metadata": {},
   "outputs": [
    {
     "data": {
      "text/plain": [
       "[1, 2, 3, 4, 5, 6, 7, 8, 9, 89, 135]"
      ]
     },
     "execution_count": 13,
     "metadata": {},
     "output_type": "execute_result"
    }
   ],
   "source": [
    "def sum_dig_pow(a, b): # range(a, b + 1) will be studied by the function\n",
    "    \n",
    "    eureka_list = []\n",
    "    for x in range(a, b+1):\n",
    "        total = 0\n",
    "        \n",
    "        for i in range(len(str(x))):\n",
    "            total += int(str(x)[i]) ** (i + 1)\n",
    "        if total == x:\n",
    "            eureka_list.append(total)\n",
    "        else: pass\n",
    "        \n",
    "    return eureka_list\n",
    "sum_dig_pow(1, 135)\n",
    "\n"
   ]
  },
  {
   "cell_type": "code",
   "execution_count": null,
   "id": "85f28655",
   "metadata": {},
   "outputs": [],
   "source": [
    "def dig_pow(n):\n",
    "    return sum(int(x)**y for y,x in enumerate(str(n), 1))\n",
    "\n",
    "def sum_dig_pow(a, b): \n",
    "    return [x for x in range(a,b + 1) if x == dig_pow(x)]"
   ]
  }
 ],
 "metadata": {
  "kernelspec": {
   "display_name": "Python 3",
   "language": "python",
   "name": "python3"
  },
  "language_info": {
   "codemirror_mode": {
    "name": "ipython",
    "version": 3
   },
   "file_extension": ".py",
   "mimetype": "text/x-python",
   "name": "python",
   "nbconvert_exporter": "python",
   "pygments_lexer": "ipython3",
   "version": "3.8.8"
  }
 },
 "nbformat": 4,
 "nbformat_minor": 5
}
