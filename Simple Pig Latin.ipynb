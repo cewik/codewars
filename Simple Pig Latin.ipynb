{
 "cells": [
  {
   "cell_type": "markdown",
   "id": "bf3b8520",
   "metadata": {},
   "source": [
    "## Instructions / Output\n",
    "- Move the first letter of each word to the end of it, then add \"ay\" to the end of the word. Leave punctuation marks untouched.\n",
    "\n",
    "### Examples\n",
    "* pig_it('Pig latin is cool') # igPay atinlay siay oolcay\n",
    "* pig_it('Hello world !')     # elloHay orldway !"
   ]
  },
  {
   "cell_type": "code",
   "execution_count": 48,
   "id": "3ba1b190",
   "metadata": {},
   "outputs": [
    {
     "data": {
      "text/plain": [
       "'igPay atinlay siay oolcay'"
      ]
     },
     "execution_count": 48,
     "metadata": {},
     "output_type": "execute_result"
    }
   ],
   "source": [
    "import string\n",
    "def pig_it(text):\n",
    "    j = []\n",
    "    for i in text.split():\n",
    "        if i in string.punctuation:\n",
    "            j.append(i)\n",
    "        else:\n",
    "            i = i[1:] + i[0] + \"ay\"\n",
    "            j.append(i) \n",
    "    return \" \".join(j)\n",
    "pig_it('Hello world !')    \n",
    "pig_it('Pig latin is cool')"
   ]
  },
  {
   "cell_type": "code",
   "execution_count": null,
   "id": "bff04306",
   "metadata": {},
   "outputs": [],
   "source": []
  }
 ],
 "metadata": {
  "kernelspec": {
   "display_name": "Python 3",
   "language": "python",
   "name": "python3"
  },
  "language_info": {
   "codemirror_mode": {
    "name": "ipython",
    "version": 3
   },
   "file_extension": ".py",
   "mimetype": "text/x-python",
   "name": "python",
   "nbconvert_exporter": "python",
   "pygments_lexer": "ipython3",
   "version": "3.8.8"
  }
 },
 "nbformat": 4,
 "nbformat_minor": 5
}
